{
  "nbformat": 4,
  "nbformat_minor": 0,
  "metadata": {
    "colab": {
      "provenance": [],
      "machine_shape": "hm",
      "mount_file_id": "1fF-DVfG6RMErWD6gN8jG2AX9X0RQLEsi",
      "authorship_tag": "ABX9TyMejETvIRa2mY4RQ9GlGgKd",
      "include_colab_link": true
    },
    "kernelspec": {
      "name": "python3",
      "display_name": "Python 3"
    },
    "language_info": {
      "name": "python"
    }
  },
  "cells": [
    {
      "cell_type": "markdown",
      "metadata": {
        "id": "view-in-github",
        "colab_type": "text"
      },
      "source": [
        "<a href=\"https://colab.research.google.com/github/htcysl/PCA-on-RGB-nDSM/blob/main/principle_component_analysis_on_orthofoto.ipynb\" target=\"_parent\"><img src=\"https://colab.research.google.com/assets/colab-badge.svg\" alt=\"Open In Colab\"/></a>"
      ]
    },
    {
      "cell_type": "markdown",
      "source": [
        "\n",
        "**rasterio** library for satellite imagery and terrain models\n",
        "\n",
        " Rasterio reads and writes these formats and provides a Python API based on Numpy N-dimensional arrays and GeoJSON."
      ],
      "metadata": {
        "id": "rgqObTsRiY8f"
      }
    },
    {
      "cell_type": "code",
      "execution_count": null,
      "metadata": {
        "colab": {
          "base_uri": "https://localhost:8080/"
        },
        "id": "19bqvqpXglVS",
        "outputId": "26fc36f5-b723-4bd7-b6a3-71794801afec"
      },
      "outputs": [
        {
          "output_type": "stream",
          "name": "stdout",
          "text": [
            "\u001b[2K     \u001b[90m━━━━━━━━━━━━━━━━━━━━━━━━━━━━━━━━━━━━━━━━\u001b[0m \u001b[32m21.5/21.5 MB\u001b[0m \u001b[31m50.0 MB/s\u001b[0m eta \u001b[36m0:00:00\u001b[0m\n",
            "\u001b[?25h"
          ]
        }
      ],
      "source": [
        "!pip install -q rasterio"
      ]
    },
    {
      "cell_type": "code",
      "source": [
        "%cd /content/drive/MyDrive/4.sınıfBahar/MipMap/DATASET/Alula/\n",
        "%ls"
      ],
      "metadata": {
        "colab": {
          "base_uri": "https://localhost:8080/"
        },
        "id": "8vRcp_v8jXNd",
        "outputId": "1fe611b8-7204-4452-b0a5-3c230f65942e"
      },
      "execution_count": null,
      "outputs": [
        {
          "output_type": "stream",
          "name": "stdout",
          "text": [
            "/content/drive/MyDrive/4.sınıfBahar/MipMap/DATASET/Alula\n",
            " \u001b[0m\u001b[01;34m10cm\u001b[0m/       \u001b[01;34m5cm\u001b[0m/              \u001b[01;34m'Masks(Original)'\u001b[0m/        \u001b[01;34mReducedData\u001b[0m/    \u001b[01;34mTile_20cm\u001b[0m/\n",
            " \u001b[01;34m15cm\u001b[0m/       \u001b[01;34mCombinedData\u001b[0m/      \u001b[01;34mnDSM\u001b[0m/                    \u001b[01;34mReducedOrtho\u001b[0m/   \u001b[01;34mTile_30cm\u001b[0m/\n",
            " \u001b[01;34m20cm\u001b[0m/       datasetInfo.gdoc   \u001b[01;34mnDSM_normalized\u001b[0m/         \u001b[01;34mTextOutput\u001b[0m/     \u001b[01;34mTile_5cm\u001b[0m/\n",
            " \u001b[01;34m20cm.txt\u001b[0m/   \u001b[01;34mDSM\u001b[0m/               \u001b[01;34mOrtho\u001b[0m/                   \u001b[01;34mTile_10cm\u001b[0m/\n",
            " \u001b[01;34m30cm\u001b[0m/       \u001b[01;34mDTM\u001b[0m/               path_to_save_image.jpg   \u001b[01;34mTile_15cm\u001b[0m/\n"
          ]
        }
      ]
    },
    {
      "cell_type": "code",
      "source": [
        "import numpy as np\n",
        "from osgeo import gdal\n",
        "from sklearn.decomposition import PCA\n",
        "from sklearn.preprocessing import StandardScaler\n",
        "import tifffile as tiff"
      ],
      "metadata": {
        "id": "_gnuQCRHjaDF"
      },
      "execution_count": null,
      "outputs": []
    },
    {
      "cell_type": "code",
      "source": [
        "file_list = ['A1','A2','B1','B2','B3','B4','C1','C2','C3','C4','D1','D2','D3','D4']\n",
        "for file in file_list:\n",
        "\n",
        "   dataset = gdal.Open(f'Ortho/Ortho_{file}.tif')\n",
        "\n",
        "   # Extract the channels\n",
        "   channels = [dataset.GetRasterBand(i+1).ReadAsArray() for i in range(dataset.RasterCount)]\n",
        "   data = np.stack(channels, axis=-1)\n",
        "   dataset = None\n",
        "   channels = None\n",
        "\n",
        "   # Reshape data to 2D array (pixels x channels)\n",
        "   height, width, num_channels = data.shape\n",
        "   data_reshaped = data.reshape(-1, num_channels)\n",
        "   data = None\n",
        "\n",
        "   # Standardize the data\n",
        "   scaler = StandardScaler()\n",
        "   data_scaled = scaler.fit_transform(data_reshaped)\n",
        "   data_reshaped = None\n",
        "   scaler = None\n",
        "\n",
        "   # Apply PCA to reduce the number of channels\n",
        "   pca = PCA(n_components=2)\n",
        "   data_pca = pca.fit_transform(data_scaled)\n",
        "   data_scaled = None\n",
        "   pca = None\n",
        "\n",
        "    # Reshape back to the original dimensions (height x width x reduced channels)\n",
        "   data_pca_reshaped = data_pca.reshape(height, width, -1)\n",
        "   data_pca = None\n",
        "\n",
        "    # Save the transformed data to a new 3-channel TIFF file\n",
        "   output_tif = f'ReducedOrtho/ReducedOrtho_{file}'\n",
        "\n",
        "\n",
        "   tiff.imwrite(output_tif, data_pca_reshaped.astype(np.float32))\n",
        "\n",
        "   print(f'Saved 3-channel TIFF file to {output_tif}')\n",
        "   data_pca_reshaped = None\n"
      ],
      "metadata": {
        "id": "U5qu8uk-nCDF"
      },
      "execution_count": null,
      "outputs": []
    },
    {
      "cell_type": "code",
      "source": [],
      "metadata": {
        "id": "_TuSotCar8hv"
      },
      "execution_count": null,
      "outputs": []
    }
  ]
}