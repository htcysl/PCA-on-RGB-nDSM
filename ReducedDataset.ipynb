{
  "nbformat": 4,
  "nbformat_minor": 0,
  "metadata": {
    "colab": {
      "provenance": [],
      "machine_shape": "hm",
      "mount_file_id": "1kG1zQezjbBihRfzXG_-nH9lzTpHX8aeU",
      "authorship_tag": "ABX9TyNNy2gp9cmEWNQR5qfy7T0u",
      "include_colab_link": true
    },
    "kernelspec": {
      "name": "python3",
      "display_name": "Python 3"
    },
    "language_info": {
      "name": "python"
    }
  },
  "cells": [
    {
      "cell_type": "markdown",
      "metadata": {
        "id": "view-in-github",
        "colab_type": "text"
      },
      "source": [
        "<a href=\"https://colab.research.google.com/github/htcysl/PCA-on-RGB-nDSM/blob/main/ReducedDataset.ipynb\" target=\"_parent\"><img src=\"https://colab.research.google.com/assets/colab-badge.svg\" alt=\"Open In Colab\"/></a>"
      ]
    },
    {
      "cell_type": "markdown",
      "source": [
        "Installation necessary library\n",
        "\n",
        "\n",
        "Rasterio: access to geospatial raster data"
      ],
      "metadata": {
        "id": "UWPHR3awZz56"
      }
    },
    {
      "cell_type": "code",
      "execution_count": 1,
      "metadata": {
        "id": "Akr_qaRM3yZJ"
      },
      "outputs": [],
      "source": [
        "!pip install -q rasterio"
      ]
    },
    {
      "cell_type": "code",
      "source": [
        "%cd /content/drive/MyDrive/4.sınıfBahar/MipMap/DATASET/Alula/\n",
        "%ls"
      ],
      "metadata": {
        "colab": {
          "base_uri": "https://localhost:8080/"
        },
        "id": "ONUdL-K-7Bjm",
        "outputId": "b4c7143a-9e25-46d7-907e-4d046ef0c768"
      },
      "execution_count": 2,
      "outputs": [
        {
          "output_type": "stream",
          "name": "stdout",
          "text": [
            "/content/drive/MyDrive/4.sınıfBahar/MipMap/DATASET/Alula\n",
            "\u001b[0m\u001b[01;34m10cm\u001b[0m/      \u001b[01;34m30cm\u001b[0m/             \u001b[01;34mDSM\u001b[0m/              \u001b[01;34mOrtho\u001b[0m/                  \u001b[01;34mTile_10cm\u001b[0m/  \u001b[01;34mTile_5cm\u001b[0m/\n",
            "\u001b[01;34m15cm\u001b[0m/      \u001b[01;34m5cm\u001b[0m/              \u001b[01;34mDTM\u001b[0m/              path_to_save_image.jpg  \u001b[01;34mTile_15cm\u001b[0m/\n",
            "\u001b[01;34m20cm\u001b[0m/      \u001b[01;34mCombinedData\u001b[0m/     \u001b[01;34mnDSM\u001b[0m/             \u001b[01;34mReducedData\u001b[0m/            \u001b[01;34mTile_20cm\u001b[0m/\n",
            "\u001b[01;34m20cm.txt\u001b[0m/  datasetInfo.gdoc  \u001b[01;34mnDSM_normalized\u001b[0m/  \u001b[01;34mTextOutput\u001b[0m/             \u001b[01;34mTile_30cm\u001b[0m/\n"
          ]
        }
      ]
    },
    {
      "cell_type": "code",
      "source": [
        "import rasterio\n",
        "import numpy as np\n",
        "import os\n",
        "import torch\n",
        "from sklearn.decomposition import PCA\n",
        "from rasterio.transform import from_origin\n",
        "from sklearn.preprocessing import StandardScaler"
      ],
      "metadata": {
        "id": "eBbssA7P4A2-"
      },
      "execution_count": 3,
      "outputs": []
    },
    {
      "cell_type": "markdown",
      "source": [
        "Functions for reading and writing raster data."
      ],
      "metadata": {
        "id": "zRlwAZ2_ZbU1"
      }
    },
    {
      "cell_type": "code",
      "source": [
        "def read_raster(file_path):\n",
        "  with rasterio.open(file_path) as src:\n",
        "    data = src.read()\n",
        "    profile = src.profile\n",
        "    return data, profile\n",
        "\n",
        "def write_raster(file_path, data, profile):\n",
        "  with rasterio.open(file_path, 'w', **profile) as dst:\n",
        "    dst.write(data, 1)\n"
      ],
      "metadata": {
        "id": "5uEGv3DoZS39"
      },
      "execution_count": 4,
      "outputs": []
    },
    {
      "cell_type": "markdown",
      "source": [
        "The following for loop takes DSM and DTM files and then calculates the nDSM."
      ],
      "metadata": {
        "id": "TnMlHpLGi3DH"
      }
    },
    {
      "cell_type": "code",
      "source": [
        "file_list = ['A1','A2','B1','B2','B3','B4','C1','C2','C3','C4','D1','D2','D3','D4']"
      ],
      "metadata": {
        "id": "o1NhJtABYq1U"
      },
      "execution_count": null,
      "outputs": []
    },
    {
      "cell_type": "markdown",
      "source": [
        "nDSM = DSM - DTM\n",
        "save nDSM driver"
      ],
      "metadata": {
        "id": "U9HMIQE4uyUq"
      }
    },
    {
      "cell_type": "code",
      "source": [
        "maximum = 10\n",
        "minimum = -52.16815\n",
        "\n",
        "for file in file_list:\n",
        "  dsm_path = f'DSM/DSM_{file}.tif'\n",
        "  dtm_path = f'DTM/DTM_{file}.tif'\n",
        "\n",
        "  dsm, dsm_profile = read_raster(dsm_path)\n",
        "  dtm, dtm_profile = read_raster(dtm_path)\n",
        "\n",
        "  if dsm.shape != dtm.shape:\n",
        "    raise ValueError(\"DSM and DTM rasters must have the same dimensions\")\n",
        "\n",
        "  ndsm = dsm - dtm\n",
        "\n",
        "  ndsm[ndsm > 10] = 10\n",
        "\n",
        "  ndsm_profile = dsm_profile.copy()\n",
        "  ndsm_profile.update(dtype=rasterio.float32)\n",
        "\n",
        "  # ndsm_normalized = (ndsm - minimum) / (maximum - minimum)\n",
        "\n",
        "  #print(ndsm_normalized.min(), ndsm_normalized.max())\n",
        "\n",
        "  #print(ndsm_normalized)\n",
        "\n",
        "  ndsm_path = f'nDSM/nDSM_{file}.tif'\n",
        "  with rasterio.open(ndsm_path, 'w', **ndsm_profile) as dst:\n",
        "    dst.write(ndsm.astype(rasterio.float32))\n",
        "\n",
        "  print(f\"nDSM normalized saved successfully to {ndsm_path}\")\n"
      ],
      "metadata": {
        "colab": {
          "base_uri": "https://localhost:8080/"
        },
        "id": "c4j4Qmq-yEqv",
        "outputId": "3026cb1a-c260-4608-dbc2-3d298f9d8c53",
        "collapsed": true
      },
      "execution_count": null,
      "outputs": [
        {
          "output_type": "stream",
          "name": "stdout",
          "text": [
            "nDSM normalized saved successfully to nDSM/nDSM_A1.tif\n",
            "nDSM normalized saved successfully to nDSM/nDSM_A2.tif\n",
            "nDSM normalized saved successfully to nDSM/nDSM_B1.tif\n",
            "nDSM normalized saved successfully to nDSM/nDSM_B2.tif\n",
            "nDSM normalized saved successfully to nDSM/nDSM_B3.tif\n",
            "nDSM normalized saved successfully to nDSM/nDSM_B4.tif\n",
            "nDSM normalized saved successfully to nDSM/nDSM_C1.tif\n",
            "nDSM normalized saved successfully to nDSM/nDSM_C2.tif\n",
            "nDSM normalized saved successfully to nDSM/nDSM_C3.tif\n",
            "nDSM normalized saved successfully to nDSM/nDSM_C4.tif\n",
            "nDSM normalized saved successfully to nDSM/nDSM_D1.tif\n",
            "nDSM normalized saved successfully to nDSM/nDSM_D2.tif\n",
            "nDSM normalized saved successfully to nDSM/nDSM_D3.tif\n",
            "nDSM normalized saved successfully to nDSM/nDSM_D4.tif\n"
          ]
        }
      ]
    },
    {
      "cell_type": "code",
      "source": [
        "dsm, dtm, ndsm, ndsm_normalized = None, None, None, None"
      ],
      "metadata": {
        "id": "YxTJYlSz96Wy"
      },
      "execution_count": null,
      "outputs": []
    },
    {
      "cell_type": "code",
      "source": [
        "for file in file_list:\n",
        "\n",
        "  ndsm_normalized_path = f'nDSM_normalized/nDSM_normalized_{file}.tif'\n",
        "  ndsm_normalized, ndsm_normalized_profile = read_raster(ndsm_normalized_path)\n",
        "\n",
        "  # ----------------------------------------------------------------------------\n",
        "  orthofoto_path = f'Ortho/Ortho_{file}.tif'\n",
        "  with rasterio.open(orthofoto_path) as ortho_dataset:\n",
        "    ortho = ortho_dataset.read()  # read all bands (RGB)\n",
        "    ortho_profile = ortho_dataset.profile\n",
        "  # ----------------------------------------------------------------------------\n",
        "  print(\"shape of ndsm_normalized:\",ndsm_normalized.shape)\n",
        "  print(\"shape of ortho:\",ortho.shape)\n",
        "\n",
        "  if ndsm_normalized.shape[1:] != ortho.shape[1:]:\n",
        "    raise ValueError(\"Dimension of nDSM and othophoto do not match.\")\n",
        "\n",
        "  # ----------------------------------------------------------------------------\n",
        "  combined_data = np.vstack((ortho, ndsm_normalized))\n",
        "  print(\"shape of combined_data:\",combined_data.shape)\n",
        "  # ----------------------------------------------------------------------------\n",
        "\n",
        "  # Get the dimensions\n",
        "  height, width = combined_data.shape[1], combined_data.shape[2]\n",
        "  half_height, half_width = height//2, width//2\n",
        "  # ----------------------------------------------------------------------------\n",
        "\n",
        "  # Define the slices for the four quadrants\n",
        "  quadrants = {\n",
        "      'top_left' : combined_data[:, :half_height, :half_width],\n",
        "      'top_right' : combined_data[:, :half_height, half_width:],\n",
        "      'bottom_left' : combined_data[:, half_height:,:half_width],\n",
        "      'bottom_right' : combined_data[:, half_height:, half_width:]\n",
        "  }\n",
        "  # ----------------------------------------------------------------------------\n",
        "\n",
        "  # Define the profile for the output file\n",
        "  combined_profile = ortho_profile.copy()\n",
        "  combined_profile.update({\n",
        "      'count' : combined_data.shape[0], # Number of bands\n",
        "      'height' : half_height,\n",
        "      'width' : half_width,\n",
        "      'dtype' : combined_data.dtype,\n",
        "      'bigtiff' : 'Yes'\n",
        "  })\n",
        "  # ----------------------------------------------------------------------------\n",
        "\n",
        "  #Save each quadrant\n",
        "  i = 1\n",
        "  for quadrant_name, quadrant_data in quadrants.items():\n",
        "    combined_profile.update({\n",
        "        'height' : quadrant_data.shape[1],\n",
        "        'width'  : quadrant_data.shape[2]\n",
        "    })\n",
        "    quadrant_path = f\"CombinedData/{file}_{i}.tif\"\n",
        "    with rasterio.open(quadrant_path,'w', **combined_profile) as dst:\n",
        "      dst.write(quadrant_data)\n",
        "    print(f\"{quadrant_name} quadrant saved sucessfully to {quadrant_path}\")\n",
        "    i += 1\n",
        "\n",
        "  ortho, ndsm_normalized, combined_data  = None, None, None\n",
        "  # ----------------------------------------------------------------------------"
      ],
      "metadata": {
        "id": "ZNtQ-Mjv7BFO",
        "colab": {
          "base_uri": "https://localhost:8080/"
        },
        "outputId": "204cc0e2-f0c0-4c9e-a9b3-8ba17ce28f6b",
        "collapsed": true
      },
      "execution_count": null,
      "outputs": [
        {
          "output_type": "stream",
          "name": "stdout",
          "text": [
            "shape of ndsm_normalized: (1, 33000, 25000)\n",
            "shape of ortho: (3, 33000, 25000)\n",
            "shape of combined_data: (4, 33000, 25000)\n",
            "top_left quadrant saved sucessfully to CombinedData/A1_1.tif\n",
            "top_right quadrant saved sucessfully to CombinedData/A1_2.tif\n",
            "bottom_left quadrant saved sucessfully to CombinedData/A1_3.tif\n",
            "bottom_right quadrant saved sucessfully to CombinedData/A1_4.tif\n",
            "shape of ndsm_normalized: (1, 33000, 25000)\n",
            "shape of ortho: (3, 33000, 25000)\n",
            "shape of combined_data: (4, 33000, 25000)\n",
            "top_left quadrant saved sucessfully to CombinedData/A2_1.tif\n",
            "top_right quadrant saved sucessfully to CombinedData/A2_2.tif\n",
            "bottom_left quadrant saved sucessfully to CombinedData/A2_3.tif\n",
            "bottom_right quadrant saved sucessfully to CombinedData/A2_4.tif\n",
            "shape of ndsm_normalized: (1, 33000, 25000)\n",
            "shape of ortho: (3, 33000, 25000)\n",
            "shape of combined_data: (4, 33000, 25000)\n",
            "top_left quadrant saved sucessfully to CombinedData/B1_1.tif\n",
            "top_right quadrant saved sucessfully to CombinedData/B1_2.tif\n",
            "bottom_left quadrant saved sucessfully to CombinedData/B1_3.tif\n",
            "bottom_right quadrant saved sucessfully to CombinedData/B1_4.tif\n",
            "shape of ndsm_normalized: (1, 33000, 25000)\n",
            "shape of ortho: (3, 33000, 25000)\n",
            "shape of combined_data: (4, 33000, 25000)\n",
            "top_left quadrant saved sucessfully to CombinedData/B2_1.tif\n",
            "top_right quadrant saved sucessfully to CombinedData/B2_2.tif\n",
            "bottom_left quadrant saved sucessfully to CombinedData/B2_3.tif\n",
            "bottom_right quadrant saved sucessfully to CombinedData/B2_4.tif\n",
            "shape of ndsm_normalized: (1, 33000, 25000)\n",
            "shape of ortho: (3, 33000, 25000)\n",
            "shape of combined_data: (4, 33000, 25000)\n",
            "top_left quadrant saved sucessfully to CombinedData/B3_1.tif\n",
            "top_right quadrant saved sucessfully to CombinedData/B3_2.tif\n",
            "bottom_left quadrant saved sucessfully to CombinedData/B3_3.tif\n",
            "bottom_right quadrant saved sucessfully to CombinedData/B3_4.tif\n",
            "shape of ndsm_normalized: (1, 33000, 25000)\n",
            "shape of ortho: (3, 33000, 25000)\n",
            "shape of combined_data: (4, 33000, 25000)\n",
            "top_left quadrant saved sucessfully to CombinedData/B4_1.tif\n",
            "top_right quadrant saved sucessfully to CombinedData/B4_2.tif\n",
            "bottom_left quadrant saved sucessfully to CombinedData/B4_3.tif\n",
            "bottom_right quadrant saved sucessfully to CombinedData/B4_4.tif\n",
            "shape of ndsm_normalized: (1, 33000, 25000)\n",
            "shape of ortho: (3, 33000, 25000)\n",
            "shape of combined_data: (4, 33000, 25000)\n",
            "top_left quadrant saved sucessfully to CombinedData/C1_1.tif\n",
            "top_right quadrant saved sucessfully to CombinedData/C1_2.tif\n",
            "bottom_left quadrant saved sucessfully to CombinedData/C1_3.tif\n",
            "bottom_right quadrant saved sucessfully to CombinedData/C1_4.tif\n",
            "shape of ndsm_normalized: (1, 33000, 25000)\n",
            "shape of ortho: (3, 33000, 25000)\n",
            "shape of combined_data: (4, 33000, 25000)\n",
            "top_left quadrant saved sucessfully to CombinedData/C2_1.tif\n",
            "top_right quadrant saved sucessfully to CombinedData/C2_2.tif\n",
            "bottom_left quadrant saved sucessfully to CombinedData/C2_3.tif\n",
            "bottom_right quadrant saved sucessfully to CombinedData/C2_4.tif\n",
            "shape of ndsm_normalized: (1, 33000, 25000)\n",
            "shape of ortho: (3, 33000, 25000)\n",
            "shape of combined_data: (4, 33000, 25000)\n",
            "top_left quadrant saved sucessfully to CombinedData/C3_1.tif\n",
            "top_right quadrant saved sucessfully to CombinedData/C3_2.tif\n",
            "bottom_left quadrant saved sucessfully to CombinedData/C3_3.tif\n",
            "bottom_right quadrant saved sucessfully to CombinedData/C3_4.tif\n",
            "shape of ndsm_normalized: (1, 33000, 25000)\n",
            "shape of ortho: (3, 33000, 25000)\n",
            "shape of combined_data: (4, 33000, 25000)\n",
            "top_left quadrant saved sucessfully to CombinedData/C4_1.tif\n",
            "top_right quadrant saved sucessfully to CombinedData/C4_2.tif\n",
            "bottom_left quadrant saved sucessfully to CombinedData/C4_3.tif\n",
            "bottom_right quadrant saved sucessfully to CombinedData/C4_4.tif\n",
            "shape of ndsm_normalized: (1, 33000, 25000)\n",
            "shape of ortho: (3, 33000, 25000)\n",
            "shape of combined_data: (4, 33000, 25000)\n",
            "top_left quadrant saved sucessfully to CombinedData/D1_1.tif\n",
            "top_right quadrant saved sucessfully to CombinedData/D1_2.tif\n",
            "bottom_left quadrant saved sucessfully to CombinedData/D1_3.tif\n",
            "bottom_right quadrant saved sucessfully to CombinedData/D1_4.tif\n",
            "shape of ndsm_normalized: (1, 33000, 25000)\n",
            "shape of ortho: (3, 33000, 25000)\n",
            "shape of combined_data: (4, 33000, 25000)\n",
            "top_left quadrant saved sucessfully to CombinedData/D2_1.tif\n",
            "top_right quadrant saved sucessfully to CombinedData/D2_2.tif\n",
            "bottom_left quadrant saved sucessfully to CombinedData/D2_3.tif\n",
            "bottom_right quadrant saved sucessfully to CombinedData/D2_4.tif\n",
            "shape of ndsm_normalized: (1, 33000, 25000)\n",
            "shape of ortho: (3, 33000, 25000)\n",
            "shape of combined_data: (4, 33000, 25000)\n",
            "top_left quadrant saved sucessfully to CombinedData/D3_1.tif\n",
            "top_right quadrant saved sucessfully to CombinedData/D3_2.tif\n",
            "bottom_left quadrant saved sucessfully to CombinedData/D3_3.tif\n",
            "bottom_right quadrant saved sucessfully to CombinedData/D3_4.tif\n",
            "shape of ndsm_normalized: (1, 33000, 25000)\n",
            "shape of ortho: (3, 33000, 25000)\n",
            "shape of combined_data: (4, 33000, 25000)\n",
            "top_left quadrant saved sucessfully to CombinedData/D4_1.tif\n",
            "top_right quadrant saved sucessfully to CombinedData/D4_2.tif\n",
            "bottom_left quadrant saved sucessfully to CombinedData/D4_3.tif\n",
            "bottom_right quadrant saved sucessfully to CombinedData/D4_4.tif\n"
          ]
        }
      ]
    },
    {
      "cell_type": "code",
      "source": [
        "combined_list =  os.listdir('CombinedData/')"
      ],
      "metadata": {
        "id": "QZD0X8JfGB73"
      },
      "execution_count": 5,
      "outputs": []
    },
    {
      "cell_type": "code",
      "source": [
        "print(new_profile)"
      ],
      "metadata": {
        "colab": {
          "base_uri": "https://localhost:8080/"
        },
        "id": "4C-st_jhW2-h",
        "outputId": "65a01a1e-02fa-4487-93b2-3cd76c3cb462"
      },
      "execution_count": null,
      "outputs": [
        {
          "output_type": "stream",
          "name": "stdout",
          "text": [
            "{'driver': 'GTiff', 'dtype': 'float32', 'nodata': None, 'width': 12500, 'height': 16500, 'count': 3, 'crs': CRS.from_epsg(32637), 'transform': Affine(0.05, 0.0, 392400.0,\n",
            "       0.0, -0.05, 2943300.0), 'blockysize': 32, 'tiled': False, 'compress': 'lzw', 'interleave': 'pixel'}\n"
          ]
        }
      ]
    },
    {
      "cell_type": "code",
      "source": [
        "import numpy as np\n",
        "from osgeo import gdal\n",
        "from sklearn.decomposition import PCA\n",
        "from sklearn.preprocessing import StandardScaler\n",
        "import tifffile as tiff\n",
        "\n",
        "# Read the 4-channel TIFF file\n",
        "for file in combined_list:\n",
        "    dataset = gdal.Open('CombinedData/'+file)\n",
        "\n",
        "    # Check if the file was loaded correctly\n",
        "    if dataset is None:\n",
        "        raise FileNotFoundError(f\"Could not open file {file}\")\n",
        "\n",
        "    # Extract the channels\n",
        "    channels = [dataset.GetRasterBand(i+1).ReadAsArray() for i in range(dataset.RasterCount)]\n",
        "    data = np.stack(channels, axis=-1)\n",
        "    dataset = None\n",
        "    channels = None\n",
        "\n",
        "    # Reshape data to 2D array (pixels x channels)\n",
        "    height, width, num_channels = data.shape\n",
        "    data_reshaped = data.reshape(-1, num_channels)\n",
        "    data = None\n",
        "\n",
        "    # Standardize the data\n",
        "    scaler = StandardScaler()\n",
        "    data_scaled = scaler.fit_transform(data_reshaped)\n",
        "    data_reshaped = None\n",
        "    scaler = None\n",
        "\n",
        "    # Apply PCA to reduce the number of channels\n",
        "    pca = PCA(n_components=3)\n",
        "    data_pca = pca.fit_transform(data_scaled)\n",
        "    data_scaled = None\n",
        "    pca = None\n",
        "\n",
        "    # Reshape back to the original dimensions (height x width x reduced channels)\n",
        "    data_pca_reshaped = data_pca.reshape(height, width, -1)\n",
        "    data_pca = None\n",
        "\n",
        "    # Save the transformed data to a new 3-channel TIFF file\n",
        "    output_tif = f'ReducedData/ReducedData_{file}'\n",
        "\n",
        "\n",
        "    tiff.imwrite(output_tif, data_pca_reshaped.astype(np.float32))\n",
        "\n",
        "    print(f'Saved 3-channel TIFF file to {output_tif}')\n",
        "    data_pca_reshaped = None\n"
      ],
      "metadata": {
        "colab": {
          "base_uri": "https://localhost:8080/"
        },
        "id": "fKkpnyVvk5wp",
        "outputId": "2176dbea-8fc3-4aa9-e023-da1fbc27f6c2"
      },
      "execution_count": 8,
      "outputs": [
        {
          "output_type": "stream",
          "name": "stdout",
          "text": [
            "Saved 3-channel TIFF file to ReducedData/ReducedData_A1_1.tif\n",
            "Saved 3-channel TIFF file to ReducedData/ReducedData_A1_2.tif\n",
            "Saved 3-channel TIFF file to ReducedData/ReducedData_A1_3.tif\n",
            "Saved 3-channel TIFF file to ReducedData/ReducedData_A1_4.tif\n",
            "Saved 3-channel TIFF file to ReducedData/ReducedData_A2_1.tif\n",
            "Saved 3-channel TIFF file to ReducedData/ReducedData_A2_2.tif\n",
            "Saved 3-channel TIFF file to ReducedData/ReducedData_A2_3.tif\n",
            "Saved 3-channel TIFF file to ReducedData/ReducedData_A2_4.tif\n",
            "Saved 3-channel TIFF file to ReducedData/ReducedData_B1_1.tif\n",
            "Saved 3-channel TIFF file to ReducedData/ReducedData_B1_2.tif\n",
            "Saved 3-channel TIFF file to ReducedData/ReducedData_B1_3.tif\n",
            "Saved 3-channel TIFF file to ReducedData/ReducedData_B1_4.tif\n",
            "Saved 3-channel TIFF file to ReducedData/ReducedData_B2_1.tif\n",
            "Saved 3-channel TIFF file to ReducedData/ReducedData_B2_2.tif\n",
            "Saved 3-channel TIFF file to ReducedData/ReducedData_B2_3.tif\n",
            "Saved 3-channel TIFF file to ReducedData/ReducedData_B2_4.tif\n",
            "Saved 3-channel TIFF file to ReducedData/ReducedData_B3_1.tif\n",
            "Saved 3-channel TIFF file to ReducedData/ReducedData_B3_2.tif\n",
            "Saved 3-channel TIFF file to ReducedData/ReducedData_B3_3.tif\n",
            "Saved 3-channel TIFF file to ReducedData/ReducedData_B3_4.tif\n",
            "Saved 3-channel TIFF file to ReducedData/ReducedData_B4_1.tif\n",
            "Saved 3-channel TIFF file to ReducedData/ReducedData_B4_2.tif\n",
            "Saved 3-channel TIFF file to ReducedData/ReducedData_B4_3.tif\n",
            "Saved 3-channel TIFF file to ReducedData/ReducedData_B4_4.tif\n",
            "Saved 3-channel TIFF file to ReducedData/ReducedData_C1_1.tif\n",
            "Saved 3-channel TIFF file to ReducedData/ReducedData_C1_2.tif\n",
            "Saved 3-channel TIFF file to ReducedData/ReducedData_C1_3.tif\n",
            "Saved 3-channel TIFF file to ReducedData/ReducedData_C1_4.tif\n",
            "Saved 3-channel TIFF file to ReducedData/ReducedData_C2_1.tif\n",
            "Saved 3-channel TIFF file to ReducedData/ReducedData_C2_2.tif\n",
            "Saved 3-channel TIFF file to ReducedData/ReducedData_C2_3.tif\n",
            "Saved 3-channel TIFF file to ReducedData/ReducedData_C2_4.tif\n",
            "Saved 3-channel TIFF file to ReducedData/ReducedData_C3_1.tif\n",
            "Saved 3-channel TIFF file to ReducedData/ReducedData_C3_2.tif\n",
            "Saved 3-channel TIFF file to ReducedData/ReducedData_C3_3.tif\n",
            "Saved 3-channel TIFF file to ReducedData/ReducedData_C3_4.tif\n",
            "Saved 3-channel TIFF file to ReducedData/ReducedData_C4_1.tif\n",
            "Saved 3-channel TIFF file to ReducedData/ReducedData_C4_2.tif\n",
            "Saved 3-channel TIFF file to ReducedData/ReducedData_C4_3.tif\n",
            "Saved 3-channel TIFF file to ReducedData/ReducedData_C4_4.tif\n",
            "Saved 3-channel TIFF file to ReducedData/ReducedData_D1_1.tif\n",
            "Saved 3-channel TIFF file to ReducedData/ReducedData_D1_2.tif\n",
            "Saved 3-channel TIFF file to ReducedData/ReducedData_D1_3.tif\n",
            "Saved 3-channel TIFF file to ReducedData/ReducedData_D1_4.tif\n",
            "Saved 3-channel TIFF file to ReducedData/ReducedData_D2_1.tif\n",
            "Saved 3-channel TIFF file to ReducedData/ReducedData_D2_2.tif\n",
            "Saved 3-channel TIFF file to ReducedData/ReducedData_D2_3.tif\n",
            "Saved 3-channel TIFF file to ReducedData/ReducedData_D2_4.tif\n",
            "Saved 3-channel TIFF file to ReducedData/ReducedData_D3_1.tif\n",
            "Saved 3-channel TIFF file to ReducedData/ReducedData_D3_2.tif\n",
            "Saved 3-channel TIFF file to ReducedData/ReducedData_D3_3.tif\n",
            "Saved 3-channel TIFF file to ReducedData/ReducedData_D3_4.tif\n",
            "Saved 3-channel TIFF file to ReducedData/ReducedData_D4_1.tif\n",
            "Saved 3-channel TIFF file to ReducedData/ReducedData_D4_2.tif\n",
            "Saved 3-channel TIFF file to ReducedData/ReducedData_D4_3.tif\n",
            "Saved 3-channel TIFF file to ReducedData/ReducedData_D4_4.tif\n"
          ]
        }
      ]
    },
    {
      "cell_type": "code",
      "source": [
        "with rasterio.open(output_tif, 'w', driver='GTiff', height=height, width=width, count=3, dtype=gdal.GDT_Float32) as dst:\n",
        "    for i in range(3):\n",
        "        dst.GetRasterBand(i+1).WriteArray(data_pca_reshaped[:,:,i])\n",
        "        dst.GetRasterBand(i+1).SetNoDataValue(0)\n",
        "        dst.GetRasterBand(i+1).SetMetadata({'count': 3, 'dtype': 'float32'})\n",
        "        dst.GetRasterBand(i+1).SetMetadata({'height': height, 'width': width})\n",
        "        dst.GetRasterBand(i+1).SetMetadata({'transform': dst.GetGeoTransform()})\n",
        "        dst.GetRasterBand(i+1).SetMetadata({'crs': dst.GetProjection()})\n",
        "        dst.GetRasterBand(i+1).SetMetadata({'driver': 'GTiff'})\n",
        "        dst.GetRasterBand(i+1).SetMetadata({'compress': 'lzw'})\n",
        "        dst.GetRasterBand(i+1).SetMetadata({'interleave': 'pixel'})\n",
        "        dst.GetRasterBand(i+1).SetMetadata({'tiled': False})\n",
        "        dst.GetRasterBand(i+1).SetMetadata({'blockxsize': 256, 'blockysize': 256})\n",
        "        dst.GetRasterBand(i+1).SetMetadata({'interleave': 'pixel'})\n",
        "        dst.GetRasterBand(i+1).SetMetadata({'interleave_fmt': 'byte'})\n",
        "        dst.GetRasterBand(i+1).SetMetadata({'interleave_type': 1})\n"
      ],
      "metadata": {
        "id": "JvZbJJYgoCY4"
      },
      "execution_count": null,
      "outputs": []
    },
    {
      "cell_type": "code",
      "source": [
        "import rasterio\n",
        "\n",
        "# Function to read and print raster file metadata\n",
        "def print_raster_metadata(file_path):\n",
        "    with rasterio.open(file_path) as src:\n",
        "        print(\"Raster Metadata:\")\n",
        "        print(f\"Driver: {src.driver}\")\n",
        "        print(f\"Width: {src.width}\")\n",
        "        print(f\"Height: {src.height}\")\n",
        "        print(f\"Count: {src.count}\")\n",
        "        print(f\"Data Type: {src.dtypes[0]}\")\n",
        "        print(f\"CRS: {src.crs}\")\n",
        "        print(f\"Transform: {src.transform}\")\n",
        "\n",
        "        # Read the data and compute statistics\n",
        "        data = src.read(1)\n",
        "        print(f\"Min Value: {data.min()}\")\n",
        "        print(f\"Max Value: {data.max()}\")\n",
        "        print(f\"Mean Value: {data.mean()}\")\n",
        "        print(f\"Standard Deviation: {data.std()}\")\n",
        "\n",
        "# File path to the nDSM\n",
        "ndsm_file = 'nDSM/nDSM_A1_2.tif'\n",
        "\n",
        "# Print metadata of the nDSM file\n",
        "print_raster_metadata(ndsm_file)\n"
      ],
      "metadata": {
        "colab": {
          "base_uri": "https://localhost:8080/"
        },
        "id": "t2N291VynyZk",
        "outputId": "38c10322-20dd-45d1-a834-f27183414a43"
      },
      "execution_count": null,
      "outputs": [
        {
          "output_type": "stream",
          "name": "stdout",
          "text": [
            "Raster Metadata:\n",
            "Driver: GTiff\n",
            "Width: 25000\n",
            "Height: 33000\n",
            "Count: 1\n",
            "Data Type: float32\n",
            "CRS: EPSG:32637\n",
            "Transform: | 0.05, 0.00, 391150.00|\n",
            "| 0.00,-0.05, 2946600.00|\n",
            "| 0.00, 0.00, 1.00|\n",
            "Min Value: -52.16815185546875\n",
            "Max Value: 34.24493408203125\n",
            "Mean Value: 0.6434074640274048\n",
            "Standard Deviation: 2.5044519901275635\n"
          ]
        }
      ]
    }
  ]
}